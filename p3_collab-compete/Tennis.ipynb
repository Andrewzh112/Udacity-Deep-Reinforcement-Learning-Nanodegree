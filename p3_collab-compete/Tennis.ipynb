{
 "cells": [
  {
   "cell_type": "markdown",
   "metadata": {},
   "source": [
    "# Collaboration and Competition\n",
    "\n",
    "---\n",
    "\n",
    "You are welcome to use this coding environment to train your agent for the project.  Follow the instructions below to get started!\n",
    "\n",
    "### 1. Start the Environment\n",
    "\n",
    "Run the next code cell to install a few packages.  This line will take a few minutes to run!"
   ]
  },
  {
   "cell_type": "code",
   "execution_count": 1,
   "metadata": {},
   "outputs": [
    {
     "name": "stdout",
     "output_type": "stream",
     "text": [
      "\u001b[31mtensorflow 1.7.1 has requirement numpy>=1.13.3, but you'll have numpy 1.12.1 which is incompatible.\u001b[0m\r\n",
      "\u001b[31mipython 6.5.0 has requirement prompt-toolkit<2.0.0,>=1.0.15, but you'll have prompt-toolkit 3.0.5 which is incompatible.\u001b[0m\r\n"
     ]
    }
   ],
   "source": [
    "!pip -q install ./python"
   ]
  },
  {
   "cell_type": "markdown",
   "metadata": {},
   "source": [
    "The environment is already saved in the Workspace and can be accessed at the file path provided below. "
   ]
  },
  {
   "cell_type": "code",
   "execution_count": 2,
   "metadata": {},
   "outputs": [
    {
     "name": "stderr",
     "output_type": "stream",
     "text": [
      "INFO:unityagents:\n",
      "'Academy' started successfully!\n",
      "Unity Academy name: Academy\n",
      "        Number of Brains: 1\n",
      "        Number of External Brains : 1\n",
      "        Lesson number : 0\n",
      "        Reset Parameters :\n",
      "\t\t\n",
      "Unity brain name: TennisBrain\n",
      "        Number of Visual Observations (per agent): 0\n",
      "        Vector Observation space type: continuous\n",
      "        Vector Observation space size (per agent): 8\n",
      "        Number of stacked Vector Observation: 3\n",
      "        Vector Action space type: continuous\n",
      "        Vector Action space size (per agent): 2\n",
      "        Vector Action descriptions: , \n"
     ]
    }
   ],
   "source": [
    "from unityagents import UnityEnvironment\n",
    "import numpy as np\n",
    "\n",
    "env = UnityEnvironment(file_name=\"/data/Tennis_Linux_NoVis/Tennis\")"
   ]
  },
  {
   "cell_type": "markdown",
   "metadata": {},
   "source": [
    "Environments contain **_brains_** which are responsible for deciding the actions of their associated agents. Here we check for the first brain available, and set it as the default brain we will be controlling from Python."
   ]
  },
  {
   "cell_type": "code",
   "execution_count": 3,
   "metadata": {},
   "outputs": [],
   "source": [
    "# get the default brain\n",
    "brain_name = env.brain_names[0]\n",
    "brain = env.brains[brain_name]"
   ]
  },
  {
   "cell_type": "markdown",
   "metadata": {},
   "source": [
    "### 2. Examine the State and Action Spaces\n",
    "\n",
    "Run the code cell below to print some information about the environment."
   ]
  },
  {
   "cell_type": "code",
   "execution_count": 4,
   "metadata": {},
   "outputs": [
    {
     "name": "stdout",
     "output_type": "stream",
     "text": [
      "Number of agents: 2\n",
      "Size of each action: 2\n",
      "There are 2 agents. Each observes a state with length: 24\n",
      "The state for the first agent looks like: [ 0.          0.          0.          0.          0.          0.          0.\n",
      "  0.          0.          0.          0.          0.          0.          0.\n",
      "  0.          0.         -6.65278625 -1.5        -0.          0.\n",
      "  6.83172083  6.         -0.          0.        ]\n"
     ]
    }
   ],
   "source": [
    "# reset the environment\n",
    "env_info = env.reset(train_mode=True)[brain_name]\n",
    "\n",
    "# number of agents \n",
    "num_agents = len(env_info.agents)\n",
    "print('Number of agents:', num_agents)\n",
    "\n",
    "# size of each action\n",
    "action_size = brain.vector_action_space_size\n",
    "print('Size of each action:', action_size)\n",
    "\n",
    "# examine the state space \n",
    "states = env_info.vector_observations\n",
    "state_size = states.shape[1]\n",
    "print('There are {} agents. Each observes a state with length: {}'.format(states.shape[0], state_size))\n",
    "print('The state for the first agent looks like:', states[0])"
   ]
  },
  {
   "cell_type": "markdown",
   "metadata": {},
   "source": [
    "### 3. Take Random Actions in the Environment\n",
    "\n",
    "In the next code cell, you will learn how to use the Python API to control the agent and receive feedback from the environment.\n",
    "\n",
    "Note that **in this coding environment, you will not be able to watch the agents while they are training**, and you should set `train_mode=True` to restart the environment."
   ]
  },
  {
   "cell_type": "code",
   "execution_count": 5,
   "metadata": {},
   "outputs": [
    {
     "name": "stdout",
     "output_type": "stream",
     "text": [
      "Total score (averaged over agents) this episode: -0.004999999888241291\n",
      "Total score (averaged over agents) this episode: -0.004999999888241291\n",
      "Total score (averaged over agents) this episode: -0.004999999888241291\n",
      "Total score (averaged over agents) this episode: -0.004999999888241291\n",
      "Total score (averaged over agents) this episode: -0.004999999888241291\n"
     ]
    }
   ],
   "source": [
    "for i in range(5):                                         # play game for 5 episodes\n",
    "    env_info = env.reset(train_mode=False)[brain_name]     # reset the environment    \n",
    "    states = env_info.vector_observations                  # get the current state (for each agent)\n",
    "    scores = np.zeros(num_agents)                          # initialize the score (for each agent)\n",
    "    while True:\n",
    "        actions = np.random.randn(num_agents, action_size) # select an action (for each agent)\n",
    "        actions = np.clip(actions, -1, 1)                  # all actions between -1 and 1\n",
    "        env_info = env.step(actions)[brain_name]           # send all actions to tne environment\n",
    "        next_states = env_info.vector_observations         # get next state (for each agent)\n",
    "        rewards = env_info.rewards                         # get reward (for each agent)\n",
    "        dones = env_info.local_done                        # see if episode finished\n",
    "        scores += env_info.rewards                         # update the score (for each agent)\n",
    "        states = next_states                               # roll over states to next time step\n",
    "        if np.any(dones):                                  # exit loop if episode finished\n",
    "            break\n",
    "    print('Total score (averaged over agents) this episode: {}'.format(np.mean(scores)))"
   ]
  },
  {
   "cell_type": "markdown",
   "metadata": {},
   "source": [
    "When finished, you can close the environment."
   ]
  },
  {
   "cell_type": "code",
   "execution_count": 6,
   "metadata": {},
   "outputs": [],
   "source": [
    "# env.close()"
   ]
  },
  {
   "cell_type": "markdown",
   "metadata": {},
   "source": [
    "### 4. It's Your Turn!\n",
    "\n",
    "Now it's your turn to train your own agent to solve the environment!  A few **important notes**:\n",
    "- When training the environment, set `train_mode=True`, so that the line for resetting the environment looks like the following:\n",
    "```python\n",
    "env_info = env.reset(train_mode=True)[brain_name]\n",
    "```\n",
    "- To structure your work, you're welcome to work directly in this Jupyter notebook, or you might like to start over with a new file!  You can see the list of files in the workspace by clicking on **_Jupyter_** in the top left corner of the notebook.\n",
    "- In this coding environment, you will not be able to watch the agents while they are training.  However, **_after training the agents_**, you can download the saved model weights to watch the agents on your own machine! "
   ]
  },
  {
   "cell_type": "code",
   "execution_count": 7,
   "metadata": {},
   "outputs": [],
   "source": [
    "# from maddpg import maddpg_agent\n",
    "from collections import deque\n",
    "import matplotlib.pyplot as plt"
   ]
  },
  {
   "cell_type": "code",
   "execution_count": 11,
   "metadata": {},
   "outputs": [],
   "source": [
    "def maddpg(num_episodes=10000, max_t=10000, window_size=100, print_every=50, goal=0.5):\n",
    "    \"\"\"Multi-Agent Deep Deterministic Policy Gradient\n",
    "    \n",
    "    Params\n",
    "    ======\n",
    "    n_episodes (int): maximum number of training episodes\n",
    "    max_t (int): maximum number of timesteps per episode\n",
    "    print_every (int): interval to display results\n",
    "    window_size (int): size of window to record average score\n",
    "    goal (float): scores window average goal\n",
    "\n",
    "    \"\"\"\n",
    "    mean_scores = [] \n",
    "    scores_window = deque(maxlen=window_size) \n",
    "    \n",
    "    brain_name = env.brain_names[0]\n",
    "    \n",
    "    for i_episode in range(1, num_episodes + 1):\n",
    "        env_info = env.reset(train_mode=True)[brain_name] \n",
    "        states = env_info.vector_observations \n",
    "        scores = np.zeros(num_agents)\n",
    "        agent.reset()\n",
    "        \n",
    "        for t in range(max_t):\n",
    "            actions = agent.act(states) # select actions\n",
    "            env_info = env.step(actions)[brain_name]  # act and receive state/reward\n",
    "            next_states = env_info.vector_observations # next states\n",
    "            rewards = env_info.rewards # get rewards\n",
    "            dones = env_info.local_done \n",
    "            agent.step(states, actions, rewards, next_states, dones, t)\n",
    "            states = next_states\n",
    "            scores += rewards\n",
    "            if np.any(dones):\n",
    "                break\n",
    "        \n",
    "        # saving scores\n",
    "        mean_scores.append(np.mean(scores))\n",
    "        scores_window.append(mean_scores[-1]) \n",
    "        average_score = np.mean(scores_window)\n",
    "        \n",
    "        if i_episode % print_every == 0:\n",
    "            print(\"\\rEpisode {:d} \\tEpisode Score: {:.5f}\\tAverage score: {:.5f}\"\\\n",
    "                  .format(i_episode, mean_scores[-1], average_score))\n",
    "        if average_score >= goal:\n",
    "            print(\"\\nEnvironment solved in {:d} episodes.\\tAverage score: {:.5f}\"\\\n",
    "                 .format(i_episode, average_score))\n",
    "            for i in range(num_agents):\n",
    "                torch.save(agent.agents[i].actor_local.state_dict(),                     \n",
    "                      os.path.join('actor_{}.pth'.format(i)) )\n",
    "                torch.save(agent.agents[i].critic_local.state_dict(), \n",
    "                      os.path.join('critic_{}.pth'.format(i)) )\n",
    "            break\n",
    "            \n",
    "    return mean_scores"
   ]
  },
  {
   "cell_type": "code",
   "execution_count": 12,
   "metadata": {
    "scrolled": false
   },
   "outputs": [
    {
     "name": "stdout",
     "output_type": "stream",
     "text": [
      "Episode 50 \tEpisode Score: -0.00500\tAverage score: -0.00400\n",
      "Episode 100 \tEpisode Score: 0.04500\tAverage score: -0.00300\n",
      "Episode 150 \tEpisode Score: -0.00500\tAverage score: 0.00150\n",
      "Episode 200 \tEpisode Score: -0.00500\tAverage score: 0.00450\n",
      "Episode 250 \tEpisode Score: -0.00500\tAverage score: 0.00850\n",
      "Episode 300 \tEpisode Score: -0.00500\tAverage score: 0.01250\n",
      "Episode 350 \tEpisode Score: 0.04500\tAverage score: 0.02250\n",
      "Episode 400 \tEpisode Score: -0.00500\tAverage score: 0.02950\n",
      "Episode 450 \tEpisode Score: 0.04500\tAverage score: 0.02850\n",
      "Episode 500 \tEpisode Score: 0.04500\tAverage score: 0.03400\n",
      "Episode 550 \tEpisode Score: -0.00500\tAverage score: 0.03850\n",
      "Episode 600 \tEpisode Score: 0.09500\tAverage score: 0.03850\n",
      "Episode 650 \tEpisode Score: 0.04500\tAverage score: 0.03900\n",
      "Episode 700 \tEpisode Score: 0.04500\tAverage score: 0.04250\n",
      "Episode 750 \tEpisode Score: 0.04500\tAverage score: 0.04550\n",
      "Episode 800 \tEpisode Score: 0.04500\tAverage score: 0.05700\n",
      "Episode 850 \tEpisode Score: 0.04500\tAverage score: 0.06800\n",
      "Episode 900 \tEpisode Score: 0.04500\tAverage score: 0.07300\n",
      "Episode 950 \tEpisode Score: 0.74500\tAverage score: 0.07550\n",
      "Episode 1000 \tEpisode Score: -0.00500\tAverage score: 0.07350\n",
      "Episode 1050 \tEpisode Score: 0.09500\tAverage score: 0.08550\n",
      "Episode 1100 \tEpisode Score: -0.00500\tAverage score: 0.11700\n",
      "Episode 1150 \tEpisode Score: 1.69500\tAverage score: 0.26055\n",
      "Episode 1200 \tEpisode Score: 0.89500\tAverage score: 0.31855\n",
      "Episode 1250 \tEpisode Score: 0.04500\tAverage score: 0.21500\n",
      "Episode 1300 \tEpisode Score: 0.39500\tAverage score: 0.20200\n",
      "Episode 1350 \tEpisode Score: 0.04500\tAverage score: 0.23550\n",
      "Episode 1400 \tEpisode Score: 0.04500\tAverage score: 0.21650\n",
      "Episode 1450 \tEpisode Score: 2.29500\tAverage score: 0.34400\n",
      "\n",
      "Environment solved in 1493 episodes.\tAverage score: 0.51595\n"
     ]
    },
    {
     "data": {
      "image/png": "[encoded data removed]",
      "text/plain": [
       "<matplotlib.figure.Figure at 0x7f1442054898>"
      ]
     },
     "metadata": {
      "needs_background": "light"
     },
     "output_type": "display_data"
    }
   ],
   "source": [
    "agent = maddpg_agent(random_seed=8)\n",
    "scores = maddpg()\n",
    "fig = plt.figure()\n",
    "ax = fig.add_subplot(111)\n",
    "plt.plot(np.arange(1, len(scores)+1), scores)\n",
    "plt.ylabel('Score')\n",
    "plt.xlabel('Episode #')\n",
    "plt.show()"
   ]
  }
 ],
 "metadata": {
  "kernelspec": {
   "display_name": "Python 3",
   "language": "python",
   "name": "python3"
  },
  "language_info": {
   "codemirror_mode": {
    "name": "ipython",
    "version": 3
   },
   "file_extension": ".py",
   "mimetype": "text/x-python",
   "name": "python",
   "nbconvert_exporter": "python",
   "pygments_lexer": "ipython3",
   "version": "3.6.3"
  }
 },
 "nbformat": 4,
 "nbformat_minor": 2
}
