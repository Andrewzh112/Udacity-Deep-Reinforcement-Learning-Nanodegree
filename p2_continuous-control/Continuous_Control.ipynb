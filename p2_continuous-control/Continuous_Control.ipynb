{
 "cells": [
  {
   "cell_type": "markdown",
   "metadata": {},
   "source": [
    "# Continuous Control\n",
    "\n",
    "---\n",
    "\n",
    "You are welcome to use this coding environment to train your agent for the project.  Follow the instructions below to get started!\n",
    "\n",
    "### 1. Start the Environment\n",
    "\n",
    "Run the next code cell to install a few packages.  This line will take a few minutes to run!"
   ]
  },
  {
   "cell_type": "code",
   "execution_count": 1,
   "metadata": {},
   "outputs": [
    {
     "name": "stdout",
     "output_type": "stream",
     "text": [
      "\u001b[31mtensorflow 1.7.1 has requirement numpy>=1.13.3, but you'll have numpy 1.12.1 which is incompatible.\u001b[0m\r\n",
      "\u001b[31mipython 6.5.0 has requirement prompt-toolkit<2.0.0,>=1.0.15, but you'll have prompt-toolkit 3.0.5 which is incompatible.\u001b[0m\r\n"
     ]
    }
   ],
   "source": [
    "!pip -q install ./python"
   ]
  },
  {
   "cell_type": "markdown",
   "metadata": {},
   "source": [
    "The environments corresponding to both versions of the environment are already saved in the Workspace and can be accessed at the file paths provided below.  \n",
    "\n",
    "Please select one of the two options below for loading the environment."
   ]
  },
  {
   "cell_type": "code",
   "execution_count": 2,
   "metadata": {},
   "outputs": [
    {
     "name": "stderr",
     "output_type": "stream",
     "text": [
      "INFO:unityagents:\n",
      "'Academy' started successfully!\n",
      "Unity Academy name: Academy\n",
      "        Number of Brains: 1\n",
      "        Number of External Brains : 1\n",
      "        Lesson number : 0\n",
      "        Reset Parameters :\n",
      "\t\tgoal_speed -> 1.0\n",
      "\t\tgoal_size -> 5.0\n",
      "Unity brain name: ReacherBrain\n",
      "        Number of Visual Observations (per agent): 0\n",
      "        Vector Observation space type: continuous\n",
      "        Vector Observation space size (per agent): 33\n",
      "        Number of stacked Vector Observation: 1\n",
      "        Vector Action space type: continuous\n",
      "        Vector Action space size (per agent): 4\n",
      "        Vector Action descriptions: , , , \n"
     ]
    }
   ],
   "source": [
    "from unityagents import UnityEnvironment\n",
    "import numpy as np\n",
    "\n",
    "# select this option to load version 1 (with a single agent) of the environment\n",
    "# env = UnityEnvironment(file_name='/data/Reacher_One_Linux_NoVis/Reacher_One_Linux_NoVis.x86_64')\n",
    "\n",
    "# select this option to load version 2 (with 20 agents) of the environment\n",
    "env = UnityEnvironment(file_name='/data/Reacher_Linux_NoVis/Reacher.x86_64')"
   ]
  },
  {
   "cell_type": "markdown",
   "metadata": {},
   "source": [
    "Environments contain **_brains_** which are responsible for deciding the actions of their associated agents. Here we check for the first brain available, and set it as the default brain we will be controlling from Python."
   ]
  },
  {
   "cell_type": "code",
   "execution_count": 3,
   "metadata": {},
   "outputs": [],
   "source": [
    "# get the default brain\n",
    "brain_name = env.brain_names[0]\n",
    "brain = env.brains[brain_name]"
   ]
  },
  {
   "cell_type": "markdown",
   "metadata": {},
   "source": [
    "### 2. Examine the State and Action Spaces\n",
    "\n",
    "Run the code cell below to print some information about the environment."
   ]
  },
  {
   "cell_type": "code",
   "execution_count": 4,
   "metadata": {},
   "outputs": [
    {
     "name": "stdout",
     "output_type": "stream",
     "text": [
      "Number of agents: 20\n",
      "Size of each action: 4\n",
      "There are 20 agents. Each observes a state with length: 33\n",
      "The state for the first agent looks like: [  0.00000000e+00  -4.00000000e+00   0.00000000e+00   1.00000000e+00\n",
      "  -0.00000000e+00  -0.00000000e+00  -4.37113883e-08   0.00000000e+00\n",
      "   0.00000000e+00   0.00000000e+00   0.00000000e+00   0.00000000e+00\n",
      "   0.00000000e+00   0.00000000e+00  -1.00000000e+01   0.00000000e+00\n",
      "   1.00000000e+00  -0.00000000e+00  -0.00000000e+00  -4.37113883e-08\n",
      "   0.00000000e+00   0.00000000e+00   0.00000000e+00   0.00000000e+00\n",
      "   0.00000000e+00   0.00000000e+00   5.75471878e+00  -1.00000000e+00\n",
      "   5.55726624e+00   0.00000000e+00   1.00000000e+00   0.00000000e+00\n",
      "  -1.68164849e-01]\n"
     ]
    }
   ],
   "source": [
    "# reset the environment\n",
    "env_info = env.reset(train_mode=True)[brain_name]\n",
    "\n",
    "# number of agents\n",
    "num_agents = len(env_info.agents)\n",
    "print('Number of agents:', num_agents)\n",
    "\n",
    "# size of each action\n",
    "action_size = brain.vector_action_space_size\n",
    "print('Size of each action:', action_size)\n",
    "\n",
    "# examine the state space \n",
    "states = env_info.vector_observations\n",
    "state_size = states.shape[1]\n",
    "print('There are {} agents. Each observes a state with length: {}'.format(states.shape[0], state_size))\n",
    "print('The state for the first agent looks like:', states[0])"
   ]
  },
  {
   "cell_type": "markdown",
   "metadata": {},
   "source": [
    "### 3. Take Random Actions in the Environment\n",
    "\n",
    "In the next code cell, you will learn how to use the Python API to control the agent and receive feedback from the environment.\n",
    "\n",
    "Note that **in this coding environment, you will not be able to watch the agents while they are training**, and you should set `train_mode=True` to restart the environment."
   ]
  },
  {
   "cell_type": "code",
   "execution_count": 5,
   "metadata": {},
   "outputs": [
    {
     "name": "stdout",
     "output_type": "stream",
     "text": [
      "Total score (averaged over agents) this episode: 0.10899999756366015\n"
     ]
    }
   ],
   "source": [
    "env_info = env.reset(train_mode=True)[brain_name]      # reset the environment    \n",
    "states = env_info.vector_observations                  # get the current state (for each agent)\n",
    "scores = np.zeros(num_agents)                          # initialize the score (for each agent)\n",
    "while True:\n",
    "    actions = np.random.randn(num_agents, action_size) # select an action (for each agent)\n",
    "    actions = np.clip(actions, -1, 1)                  # all actions between -1 and 1\n",
    "    env_info = env.step(actions)[brain_name]           # send all actions to tne environment\n",
    "    next_states = env_info.vector_observations         # get next state (for each agent)\n",
    "    rewards = env_info.rewards                         # get reward (for each agent)\n",
    "    dones = env_info.local_done                        # see if episode finished\n",
    "    scores += env_info.rewards                         # update the score (for each agent)\n",
    "    states = next_states                               # roll over states to next time step\n",
    "    if np.any(dones):                                  # exit loop if episode finished\n",
    "        break\n",
    "print('Total score (averaged over agents) this episode: {}'.format(np.mean(scores)))"
   ]
  },
  {
   "cell_type": "markdown",
   "metadata": {},
   "source": [
    "When finished, you can close the environment."
   ]
  },
  {
   "cell_type": "code",
   "execution_count": 6,
   "metadata": {},
   "outputs": [],
   "source": [
    "# env.close()"
   ]
  },
  {
   "cell_type": "markdown",
   "metadata": {},
   "source": [
    "### 4. It's Your Turn!\n",
    "\n",
    "Now it's your turn to train your own agent to solve the environment!  A few **important notes**:\n",
    "- When training the environment, set `train_mode=True`, so that the line for resetting the environment looks like the following:\n",
    "```python\n",
    "env_info = env.reset(train_mode=True)[brain_name]\n",
    "```\n",
    "- To structure your work, you're welcome to work directly in this Jupyter notebook, or you might like to start over with a new file!  You can see the list of files in the workspace by clicking on **_Jupyter_** in the top left corner of the notebook.\n",
    "- In this coding environment, you will not be able to watch the agents while they are training.  However, **_after training the agents_**, you can download the saved model weights to watch the agents on your own machine! "
   ]
  },
  {
   "cell_type": "code",
   "execution_count": 7,
   "metadata": {},
   "outputs": [],
   "source": [
    "import random\n",
    "import torch\n",
    "import numpy as np\n",
    "from collections import deque\n",
    "import matplotlib.pyplot as plt\n",
    "%matplotlib inline\n",
    "\n",
    "from ddpg_agent import Agent\n",
    "from workspace_utils import active_session"
   ]
  },
  {
   "cell_type": "code",
   "execution_count": 10,
   "metadata": {},
   "outputs": [],
   "source": [
    "def ddpg(num_episodes=1000, max_t=1000, window_size=100, print_every=1, goal=30):\n",
    "    \"\"\"Deep Deterministic Policy Gradient\n",
    "    \n",
    "    Params\n",
    "    ======\n",
    "    n_episodes (int): maximum number of training episodes\n",
    "    max_t (int): maximum number of timesteps per episode\n",
    "    print_every (int): interval to display results\n",
    "    \n",
    "    \"\"\"\n",
    "    mean_scores = [] \n",
    "    scores_window = deque(maxlen=window_size) \n",
    "    \n",
    "    for i_episode in range(1, num_episodes + 1):\n",
    "        env_info = env.reset(train_mode=True)[brain_name] \n",
    "        states = env_info.vector_observations \n",
    "        scores = np.zeros(num_agents)\n",
    "        agent.reset()\n",
    "        \n",
    "        for t in range(max_t):\n",
    "            actions = agent.act(states, add_noise=True) # select actions\n",
    "            env_info = env.step(actions)[brain_name]  # act and receive state/reward\n",
    "            next_states = env_info.vector_observations # next states\n",
    "            rewards = env_info.rewards # get rewards\n",
    "            dones = env_info.local_done \n",
    "            for state, action, reward, next_state, done in zip(states, actions, rewards, next_states, dones):\n",
    "                agent.step(state, action, reward, next_state, done, t)\n",
    "            states = next_states\n",
    "            scores += rewards\n",
    "            if np.any(dones):\n",
    "                break\n",
    "        \n",
    "        # saving scores\n",
    "        mean_scores.append(np.mean(scores))\n",
    "        scores_window.append(mean_scores[-1]) \n",
    "        average_score = np.mean(scores_window)\n",
    "        \n",
    "        if i_episode % print_every == 0:\n",
    "            print(\"\\rEpisode {:d} \\tEpisode Score: {:.2f}\\tAverage score: {:.2f}\"\\\n",
    "                  .format(i_episode, mean_scores[-1], average_score))\n",
    "        if average_score >= goal:\n",
    "            print(\"\\nEnvironment solved in {:d} episodes.\\tAverage score: {:.2f}\"\\\n",
    "                 .format(i_episode, average_score))\n",
    "            torch.save(agent.actor_local.state_dict(), 'actor.pth')\n",
    "            torch.save(agent.critic_local.state_dict(), 'critic.pth')\n",
    "            break\n",
    "            \n",
    "    return mean_scores"
   ]
  },
  {
   "cell_type": "code",
   "execution_count": 11,
   "metadata": {
    "scrolled": false
   },
   "outputs": [
    {
     "name": "stdout",
     "output_type": "stream",
     "text": [
      "Episode 1 \tEpisode Score: 1.03\tAverage score: 1.03\n",
      "Episode 2 \tEpisode Score: 1.37\tAverage score: 1.20\n",
      "Episode 3 \tEpisode Score: 1.89\tAverage score: 1.43\n",
      "Episode 4 \tEpisode Score: 1.61\tAverage score: 1.48\n",
      "Episode 5 \tEpisode Score: 1.61\tAverage score: 1.50\n",
      "Episode 6 \tEpisode Score: 2.61\tAverage score: 1.69\n",
      "Episode 7 \tEpisode Score: 2.25\tAverage score: 1.77\n",
      "Episode 8 \tEpisode Score: 2.68\tAverage score: 1.88\n",
      "Episode 9 \tEpisode Score: 3.05\tAverage score: 2.01\n",
      "Episode 10 \tEpisode Score: 3.60\tAverage score: 2.17\n",
      "Episode 11 \tEpisode Score: 4.03\tAverage score: 2.34\n",
      "Episode 12 \tEpisode Score: 3.92\tAverage score: 2.47\n",
      "Episode 13 \tEpisode Score: 5.04\tAverage score: 2.67\n",
      "Episode 14 \tEpisode Score: 5.14\tAverage score: 2.85\n",
      "Episode 15 \tEpisode Score: 5.23\tAverage score: 3.00\n",
      "Episode 16 \tEpisode Score: 5.01\tAverage score: 3.13\n",
      "Episode 17 \tEpisode Score: 5.40\tAverage score: 3.26\n",
      "Episode 18 \tEpisode Score: 5.73\tAverage score: 3.40\n",
      "Episode 19 \tEpisode Score: 6.24\tAverage score: 3.55\n",
      "Episode 20 \tEpisode Score: 6.44\tAverage score: 3.69\n",
      "Episode 21 \tEpisode Score: 4.99\tAverage score: 3.76\n",
      "Episode 22 \tEpisode Score: 5.90\tAverage score: 3.85\n",
      "Episode 23 \tEpisode Score: 5.98\tAverage score: 3.95\n",
      "Episode 24 \tEpisode Score: 6.29\tAverage score: 4.04\n",
      "Episode 25 \tEpisode Score: 6.99\tAverage score: 4.16\n",
      "Episode 26 \tEpisode Score: 9.17\tAverage score: 4.35\n",
      "Episode 27 \tEpisode Score: 11.22\tAverage score: 4.61\n",
      "Episode 28 \tEpisode Score: 12.24\tAverage score: 4.88\n",
      "Episode 29 \tEpisode Score: 12.55\tAverage score: 5.15\n",
      "Episode 30 \tEpisode Score: 12.53\tAverage score: 5.39\n",
      "Episode 31 \tEpisode Score: 16.02\tAverage score: 5.73\n",
      "Episode 32 \tEpisode Score: 18.45\tAverage score: 6.13\n",
      "Episode 33 \tEpisode Score: 17.13\tAverage score: 6.47\n",
      "Episode 34 \tEpisode Score: 18.28\tAverage score: 6.81\n",
      "Episode 35 \tEpisode Score: 19.63\tAverage score: 7.18\n",
      "Episode 36 \tEpisode Score: 18.33\tAverage score: 7.49\n",
      "Episode 37 \tEpisode Score: 19.04\tAverage score: 7.80\n",
      "Episode 38 \tEpisode Score: 19.92\tAverage score: 8.12\n",
      "Episode 39 \tEpisode Score: 21.89\tAverage score: 8.47\n",
      "Episode 40 \tEpisode Score: 24.34\tAverage score: 8.87\n",
      "Episode 41 \tEpisode Score: 22.72\tAverage score: 9.21\n",
      "Episode 42 \tEpisode Score: 28.18\tAverage score: 9.66\n",
      "Episode 43 \tEpisode Score: 26.58\tAverage score: 10.05\n",
      "Episode 44 \tEpisode Score: 29.09\tAverage score: 10.49\n",
      "Episode 45 \tEpisode Score: 28.95\tAverage score: 10.90\n",
      "Episode 46 \tEpisode Score: 31.58\tAverage score: 11.35\n",
      "Episode 47 \tEpisode Score: 29.45\tAverage score: 11.73\n",
      "Episode 48 \tEpisode Score: 31.08\tAverage score: 12.13\n",
      "Episode 49 \tEpisode Score: 32.76\tAverage score: 12.55\n",
      "Episode 50 \tEpisode Score: 33.97\tAverage score: 12.98\n",
      "Episode 51 \tEpisode Score: 34.34\tAverage score: 13.40\n",
      "Episode 52 \tEpisode Score: 35.71\tAverage score: 13.83\n",
      "Episode 53 \tEpisode Score: 36.63\tAverage score: 14.26\n",
      "Episode 54 \tEpisode Score: 36.51\tAverage score: 14.67\n",
      "Episode 55 \tEpisode Score: 37.10\tAverage score: 15.08\n",
      "Episode 56 \tEpisode Score: 34.02\tAverage score: 15.42\n",
      "Episode 57 \tEpisode Score: 36.82\tAverage score: 15.79\n",
      "Episode 58 \tEpisode Score: 37.87\tAverage score: 16.18\n",
      "Episode 59 \tEpisode Score: 37.87\tAverage score: 16.54\n",
      "Episode 60 \tEpisode Score: 36.83\tAverage score: 16.88\n",
      "Episode 61 \tEpisode Score: 38.66\tAverage score: 17.24\n",
      "Episode 62 \tEpisode Score: 38.08\tAverage score: 17.57\n",
      "Episode 63 \tEpisode Score: 37.36\tAverage score: 17.89\n",
      "Episode 64 \tEpisode Score: 38.98\tAverage score: 18.22\n",
      "Episode 65 \tEpisode Score: 38.90\tAverage score: 18.54\n",
      "Episode 66 \tEpisode Score: 39.07\tAverage score: 18.85\n",
      "Episode 67 \tEpisode Score: 38.81\tAverage score: 19.15\n",
      "Episode 68 \tEpisode Score: 38.49\tAverage score: 19.43\n",
      "Episode 69 \tEpisode Score: 38.99\tAverage score: 19.71\n",
      "Episode 70 \tEpisode Score: 38.77\tAverage score: 19.99\n",
      "Episode 71 \tEpisode Score: 38.77\tAverage score: 20.25\n",
      "Episode 72 \tEpisode Score: 38.62\tAverage score: 20.51\n",
      "Episode 73 \tEpisode Score: 38.23\tAverage score: 20.75\n",
      "Episode 74 \tEpisode Score: 38.61\tAverage score: 20.99\n",
      "Episode 75 \tEpisode Score: 38.59\tAverage score: 21.22\n",
      "Episode 76 \tEpisode Score: 38.80\tAverage score: 21.46\n",
      "Episode 77 \tEpisode Score: 38.84\tAverage score: 21.68\n",
      "Episode 78 \tEpisode Score: 39.08\tAverage score: 21.90\n",
      "Episode 79 \tEpisode Score: 37.92\tAverage score: 22.11\n",
      "Episode 80 \tEpisode Score: 39.07\tAverage score: 22.32\n",
      "Episode 81 \tEpisode Score: 39.41\tAverage score: 22.53\n",
      "Episode 82 \tEpisode Score: 39.34\tAverage score: 22.74\n",
      "Episode 83 \tEpisode Score: 38.83\tAverage score: 22.93\n",
      "Episode 84 \tEpisode Score: 38.99\tAverage score: 23.12\n",
      "Episode 85 \tEpisode Score: 39.28\tAverage score: 23.31\n",
      "Episode 86 \tEpisode Score: 39.26\tAverage score: 23.50\n",
      "Episode 87 \tEpisode Score: 38.26\tAverage score: 23.67\n",
      "Episode 88 \tEpisode Score: 39.01\tAverage score: 23.84\n",
      "Episode 89 \tEpisode Score: 38.97\tAverage score: 24.01\n",
      "Episode 90 \tEpisode Score: 39.29\tAverage score: 24.18\n",
      "Episode 91 \tEpisode Score: 38.95\tAverage score: 24.34\n",
      "Episode 92 \tEpisode Score: 37.68\tAverage score: 24.49\n",
      "Episode 93 \tEpisode Score: 39.33\tAverage score: 24.65\n",
      "Episode 94 \tEpisode Score: 39.34\tAverage score: 24.80\n",
      "Episode 95 \tEpisode Score: 38.55\tAverage score: 24.95\n",
      "Episode 96 \tEpisode Score: 37.97\tAverage score: 25.08\n",
      "Episode 97 \tEpisode Score: 39.12\tAverage score: 25.23\n",
      "Episode 98 \tEpisode Score: 38.36\tAverage score: 25.36\n",
      "Episode 99 \tEpisode Score: 39.09\tAverage score: 25.50\n",
      "Episode 100 \tEpisode Score: 39.04\tAverage score: 25.64\n",
      "Episode 101 \tEpisode Score: 38.77\tAverage score: 26.01\n",
      "Episode 102 \tEpisode Score: 38.66\tAverage score: 26.39\n",
      "Episode 103 \tEpisode Score: 38.32\tAverage score: 26.75\n",
      "Episode 104 \tEpisode Score: 36.53\tAverage score: 27.10\n",
      "Episode 105 \tEpisode Score: 39.11\tAverage score: 27.47\n",
      "Episode 106 \tEpisode Score: 39.26\tAverage score: 27.84\n",
      "Episode 107 \tEpisode Score: 38.76\tAverage score: 28.21\n",
      "Episode 108 \tEpisode Score: 39.34\tAverage score: 28.57\n",
      "Episode 109 \tEpisode Score: 38.72\tAverage score: 28.93\n",
      "Episode 110 \tEpisode Score: 38.64\tAverage score: 29.28\n",
      "Episode 111 \tEpisode Score: 39.15\tAverage score: 29.63\n",
      "Episode 112 \tEpisode Score: 38.97\tAverage score: 29.98\n",
      "Episode 113 \tEpisode Score: 38.58\tAverage score: 30.32\n",
      "\n",
      "Environment solved in 13 episodes.\tAverage score: 30.32\n"
     ]
    }
   ],
   "source": [
    "agent = Agent(state_size=state_size, action_size=action_size, random_seed=99)\n",
    "with active_session():\n",
    "    scores = ddpg()"
   ]
  },
  {
   "cell_type": "code",
   "execution_count": 12,
   "metadata": {},
   "outputs": [
    {
     "data": {
      "image/png": "[encoded data removed]",
      "text/plain": [
       "<matplotlib.figure.Figure at 0x7f3691926ef0>"
      ]
     },
     "metadata": {
      "needs_background": "light"
     },
     "output_type": "display_data"
    }
   ],
   "source": [
    "fig = plt.figure()\n",
    "ax = fig.add_subplot(111)\n",
    "plt.plot(np.arange(1, len(scores)+1), scores)\n",
    "plt.ylabel('Score')\n",
    "plt.xlabel('Episode #')\n",
    "plt.show()"
   ]
  },
  {
   "cell_type": "code",
   "execution_count": null,
   "metadata": {},
   "outputs": [],
   "source": []
  }
 ],
 "metadata": {
  "kernelspec": {
   "display_name": "Python 3",
   "language": "python",
   "name": "python3"
  },
  "language_info": {
   "codemirror_mode": {
    "name": "ipython",
    "version": 3
   },
   "file_extension": ".py",
   "mimetype": "text/x-python",
   "name": "python",
   "nbconvert_exporter": "python",
   "pygments_lexer": "ipython3",
   "version": "3.6.3"
  }
 },
 "nbformat": 4,
 "nbformat_minor": 2
}
